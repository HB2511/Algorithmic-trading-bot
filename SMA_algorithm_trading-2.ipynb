{
  "nbformat": 4,
  "nbformat_minor": 0,
  "metadata": {
    "colab": {
      "provenance": []
    },
    "kernelspec": {
      "name": "python3",
      "display_name": "Python 3"
    },
    "language_info": {
      "name": "python"
    }
  },
  "cells": [
    {
      "cell_type": "code",
      "execution_count": null,
      "metadata": {
        "colab": {
          "base_uri": "https://localhost:8080/"
        },
        "id": "s7Dce4D-q8qS",
        "outputId": "3b235a4e-f677-483a-9243-ac0fc8286b50"
      },
      "outputs": [
        {
          "output_type": "stream",
          "name": "stdout",
          "text": [
            "Mounted at /content/drive\n"
          ]
        }
      ],
      "source": [
        "from google.colab import drive\n",
        "drive.mount('/content/drive')"
      ]
    },
    {
      "cell_type": "code",
      "source": [
        "data_path = \"/content/drive/My Drive/IndependentResearch/Trading_Bot/tData/\"\n",
        "output_dir_path = \"/content/drive/My Drive/IndependentResearch/Trading_Bot/Results/\""
      ],
      "metadata": {
        "id": "EBrqWWBqrIeI"
      },
      "execution_count": null,
      "outputs": []
    },
    {
      "cell_type": "code",
      "source": [
        "import pandas\n",
        "!pip install yfinance\n",
        "!pip install plotly\n",
        "!pip install alpaca-py"
      ],
      "metadata": {
        "id": "n973Z1VQrP2c"
      },
      "execution_count": 12,
      "outputs": []
    },
    {
      "cell_type": "code",
      "source": [
        "# import functions\n",
        "import matplotlib.pyplot as plt\n",
        "import math\n",
        "import numpy as np\n",
        "import pandas as pd\n",
        "import time\n",
        "import yfinance as yf"
      ],
      "metadata": {
        "id": "YarCgKDVrUyE"
      },
      "execution_count": null,
      "outputs": []
    },
    {
      "cell_type": "code",
      "source": [
        "#Grab Data and put into data frame\n",
        "def grab_data(ticker,period,interval):\n",
        "  ticker = ticker\n",
        "  data = yf.download(tickers=ticker, period=period, interval=interval)\n",
        "  num_rows = data.shape[0]\n",
        "  data.to_csv(data_path + ticker + \"_\" + period + \"_\" + interval + \"_\" + \"original_input.csv\")\n",
        "\n",
        "  return data\n"
      ],
      "metadata": {
        "id": "wBqVMuBxrYFC"
      },
      "execution_count": null,
      "outputs": []
    },
    {
      "cell_type": "code",
      "source": [
        "def SMA_Crossover(data, ticker, short_window,long_window,pos_SMA,neg_SMA):\n",
        "  # adds short SMA parameter to input data\n",
        "\n",
        "    short_SMA = data['Close'].rolling(window = short_window).mean()\n",
        "    data[\"Short SMA\"] = short_SMA\n",
        "\n",
        "\n",
        "  # adds long SMA parameter to input data\n",
        "\n",
        "    long_SMA = data['Close'].rolling(window=long_window).mean()\n",
        "    data[\"Long SMA\"] = long_SMA\n",
        "\n",
        "    # calculates SMA percent\n",
        "    data['SMA Calc'] = \"\"\n",
        "    num_rows = data.shape[0]\n",
        "    for i in range(num_rows):\n",
        "      data['SMA Calc'].iloc[i] = 1 - data['Short SMA'].iloc[i]/data['Long SMA'].iloc[i]\n",
        "\n",
        "    # Calculate a buy sell or a hold\n",
        "    buying_period = False\n",
        "    data['BSH'] = \"\"\n",
        "    for i in range(num_rows):\n",
        "      # calculate_SMA = 1 - data['Short SMA'].iloc[i]/data['Long SMA'].iloc[i]\n",
        "      calculate_SMA = data['SMA Calc'].iloc[i]\n",
        "      current_price = data['Close'].iloc[i]\n",
        "\n",
        "      if calculate_SMA >= pos_SMA and buying_period == False:\n",
        "        data['BSH'].iloc[i] = \"BUY\"\n",
        "        buy_price = data['Close'].iloc[i]\n",
        "        buying_period = True\n",
        "\n",
        "      elif calculate_SMA <= neg_SMA and buying_period == True:\n",
        "        data['BSH'].iloc[i] = \"SELL\"\n",
        "        buying_period = False\n",
        "\n",
        "      else:\n",
        "        data['BSH'].iloc[i] = \"HOLD\"\n",
        "\n",
        "    data.to_csv(data_path + ticker + \"after_SMA_strategy.csv\")\n",
        "    return data\n",
        "\n"
      ],
      "metadata": {
        "id": "1O34fKAjSuQT"
      },
      "execution_count": null,
      "outputs": []
    },
    {
      "cell_type": "code",
      "source": [
        "# create data of all the buy sells the bot does\n",
        "def resulting_data(data,ticker):\n",
        "  # create resulting data\n",
        "  num_rows = data.shape[0]\n",
        "  visual_data = data.reset_index()\n",
        "  visual_data = visual_data.rename(columns={visual_data.columns[0]: 'Datetime'})\n",
        "  results = pd.DataFrame(columns=['Date of Buy','Buy Price', 'Date of Sell', 'Sell Price'])\n",
        "  j = 0\n",
        "\n",
        "  # create result data\n",
        "  for i in range(num_rows):\n",
        "    if data['BSH'].iloc[i] == \"BUY\":\n",
        "      results = results.append({'Buy Price' : data['Close'].iloc[i] }, ignore_index = True)\n",
        "      results['Date of Buy'].iloc[j] = visual_data['Datetime'].iloc[i]\n",
        "\n",
        "    elif data['BSH'].iloc[i] == \"SELL\":\n",
        "      results['Sell Price'].iloc[j] = data['Close'].iloc[i]\n",
        "      results['Date of Sell'].iloc[j] = visual_data['Datetime'].iloc[i]\n",
        "      j = j + 1\n",
        "  print(results)\n",
        "  # calculate difference of buy and sell\n",
        "  results['Difference'] = ' '\n",
        "\n",
        "  for i in range(results.shape[0]):\n",
        "    results[\"Difference\"].iloc[i] = results['Sell Price'].iloc[i] - results['Buy Price'].iloc[i]\n",
        "\n",
        "  # drop bottom row if the bot buys but doesnt have enough data to sell\n",
        "  results.dropna(subset=['Sell Price'], inplace=True)\n",
        "  results.dropna(subset=['Date of Sell'], inplace=True)\n",
        "\n",
        "  # create csv and save it\n",
        "  results.to_csv(output_dir_path + ticker + '_results.csv')\n",
        "\n",
        "  # return results of backtesting\n",
        "  bots_sum = 0\n",
        "  if results.empty:\n",
        "    raise Exception(\"The bot did not place any buy orders\")\n",
        "  else:\n",
        "    for i in range(results.shape[0]):\n",
        "      bots_sum = results['Difference'].iloc[i] + bots_sum\n",
        "      bots_expected_returns = bots_sum / results['Buy Price'].iloc[0] * 100\n",
        "\n",
        "    reg_sum = results['Sell Price'].iloc[-1] - results['Buy Price'].iloc[0]\n",
        "    reg_returns = reg_sum / results['Buy Price'].iloc[0] * 100\n",
        "\n",
        "  return results, bots_sum, bots_expected_returns, reg_sum, reg_returns"
      ],
      "metadata": {
        "id": "wwtOUAk1ZTCv"
      },
      "execution_count": null,
      "outputs": []
    },
    {
      "cell_type": "code",
      "source": [
        "# for live loop\n",
        "# https://www.geeksforgeeks.org/how-to-update-a-plot-on-same-figure-during-the-loop/\n",
        "\n",
        "# visualize the data with a chart\n",
        "def visualize(results, data, ticker):\n",
        "  # drop index to be able to drab the date\n",
        "  visual_data = data.reset_index()\n",
        "  visual_data = visual_data.rename(columns={visual_data.columns[0]: 'Datetime'})\n",
        "\n",
        "\n",
        "  # turn to datetime attribute\n",
        "  results['Date of Buy'] = pd.to_datetime(results['Date of Buy'])\n",
        "  results['Date of Sell'] = pd.to_datetime(results['Date of Sell'])\n",
        "\n",
        "  # set variables\n",
        "  market_data = visual_data['Close']\n",
        "  time_series = visual_data['Datetime']\n",
        "\n",
        "  fig = plt.figure(figsize= (10,5))\n",
        "\n",
        "  # plot the stocks data and the points at which the bot buys and sells\n",
        "  plt.plot(time_series, market_data, color = 'black')\n",
        "  plt.plot(results['Date of Buy'], results['Buy Price'], 'o', color='green')\n",
        "  plt.plot(results['Date of Sell'], results['Sell Price'],'o', color='red')\n",
        "\n",
        "  # create variables\n",
        "  buy_point = []\n",
        "  sell_point = []\n",
        "  x_val = []\n",
        "  y_val = []\n",
        "\n",
        "  # plot lines in between the buy and sell, make lines green or red depending on whether its a positive or negative slope\n",
        "  for i in range(results.shape[0]):\n",
        "    buy_point = [results['Date of Buy'].iloc[i], results['Buy Price'].iloc[i]]\n",
        "    sell_point = [results['Date of Sell'].iloc[i], results['Sell Price'].iloc[i]]\n",
        "    x_val = [buy_point[0], sell_point[0]]\n",
        "    y_val = [buy_point[1], sell_point[1]]\n",
        "    # plot lines\n",
        "    if results['Sell Price'].iloc[i] - results['Buy Price'].iloc[i] >= 0:\n",
        "      plt.plot(x_val, y_val, linestyle=\"-\" , color = 'green')\n",
        "    else:\n",
        "      plt.plot(x_val, y_val, linestyle=\"-\" , color = 'red')\n",
        "\n",
        "  # plot chart\n",
        "  plt.xlabel(\"Time\")\n",
        "  plt.ylabel(\"Price\")\n",
        "  plt.title(ticker + ' Market Data')\n",
        "  plt.grid(True)\n",
        "  plt.show()\n",
        "\n",
        "  fig.savefig(output_dir_path + 'visualize_result_of' + ticker + '.png')"
      ],
      "metadata": {
        "id": "7NeTxHBad8HC"
      },
      "execution_count": null,
      "outputs": []
    },
    {
      "cell_type": "code",
      "source": [
        "ticker = 'AAPL'\n",
        "period = '1y'\n",
        "interval = '1h'\n",
        "\n",
        "\n",
        "data = grab_data(ticker, period, interval)\n",
        "trading_strategy_data = SMA_Crossover(data,'AAPL', 10,60,.01,-.05)\n",
        "results = resulting_data(trading_strategy_data,'AAPL')\n",
        "result_df = results[0]\n",
        "print(\"Your backtesting result is a return of \" , results[1])\n",
        "print(\"The percent change from the original buy value is \" , results[2] , '%')\n",
        "\n",
        "print(\"Your buy and hold result is a return of\" , results[3])\n",
        "print(\"The percent change from the original buy value is \" , results[4] , '%')\n",
        "\n",
        "visualize(result_df,data,ticker)\n",
        "\n"
      ],
      "metadata": {
        "id": "tfdRfNT4YaPG"
      },
      "execution_count": 12,
      "outputs": []
    },
    {
      "cell_type": "markdown",
      "source": [],
      "metadata": {
        "id": "5RA9yaxaSuAm"
      }
    }
  ]
}